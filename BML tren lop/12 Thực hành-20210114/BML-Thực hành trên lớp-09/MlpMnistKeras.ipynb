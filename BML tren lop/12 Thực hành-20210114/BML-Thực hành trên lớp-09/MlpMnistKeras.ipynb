{
 "cells": [
  {
   "cell_type": "markdown",
   "metadata": {},
   "source": [
    "# Ví dụ về Multilayer Perceptron với tập MNIST\n",
    "Xây dựng mạng fully connected với 2 lớp ẩn sử dụng Keras"
   ]
  },
  {
   "cell_type": "markdown",
   "metadata": {},
   "source": [
    "## Tổng quan về Neural Network\n",
    "\n",
    "<img src=\"http://cs231n.github.io/assets/nn1/neural_net2.jpeg\" alt=\"nn\" style=\"width: 400px;\"/>\n",
    "\n",
    "## Tập dữ liệu MNIST\n",
    "\n",
    "Ví dụ này sử dụng tập ảnh chữ số viết tay MNIST. MNIST gồm 60,000 ảnh cho huấn luyện và 10,000 ảnh cho kiểm thử mô hình. Mọi ảnh chữ số viết tay trong tập dữ liệu được chuẩn hóa về kích thước, cụ thể là (28x28) với giá trị pixels nằm trong khoảng 0 đến 1. Để đơn giản bài troán, mỗi ảnh được trải phẳng thành mảng numpy một chiều (784 thành phần)\n",
    "\n",
    "![MNIST Dataset](http://neuralnetworksanddeeplearning.com/images/mnist_100_digits.png)\n",
    "\n",
    "Tham khảo: http://yann.lecun.com/exdb/mnist/"
   ]
  },
  {
   "cell_type": "code",
   "execution_count": 42,
   "metadata": {},
   "outputs": [],
   "source": [
    "import keras\n",
    "from keras.models import Sequential\n",
    "from keras.layers import Dense, Dropout, Flatten, BatchNormalization\n",
    "from keras import backend as K\n",
    "from keras.models import model_from_json\n",
    "from sklearn.model_selection import train_test_split\n",
    "\n",
    "import numpy as np\n",
    "import matplotlib.pyplot as plt\n",
    "import os\n",
    "import cv2\n",
    "from tensorflow.keras import backend"
   ]
  },
  {
   "cell_type": "code",
   "execution_count": 43,
   "metadata": {
    "scrolled": true
   },
   "outputs": [
    {
     "data": {
      "text/plain": [
       "'2.3.0'"
      ]
     },
     "execution_count": 43,
     "metadata": {},
     "output_type": "execute_result"
    }
   ],
   "source": [
    "import tensorflow as tf\n",
    "tf.__version__"
   ]
  },
  {
   "cell_type": "code",
   "execution_count": 44,
   "metadata": {},
   "outputs": [
    {
     "data": {
      "text/plain": [
       "'2.4.3'"
      ]
     },
     "execution_count": 44,
     "metadata": {},
     "output_type": "execute_result"
    }
   ],
   "source": [
    "import keras\n",
    "keras.__version__"
   ]
  },
  {
   "cell_type": "markdown",
   "metadata": {},
   "source": [
    "## Lập trình mạng nơ-ron với Keras\n",
    "\n",
    "Thư viện Keras hỗ trợ lập trình mạng nơ-ron rất dễ dàng. Dễ dàng thêm các layer bằng cách sử dụng các đối tượng như Dense(), Dropout(),... \n",
    "\n",
    "Xem thêm các hàm cơ bản xây dựng mạng nơ-ron: https://keras.io/layers/core/\n",
    "\n",
    "Hàm dưới đây xây dựng một mạng nơ-ron Sequantial model của Keras với đầu vào là kích thước ảnh sau khi duỗi về 1D, số lượng lớp (ở đây là 10). Đầu ra là model mạng cho bài toán MNIST."
   ]
  },
  {
   "cell_type": "code",
   "execution_count": 45,
   "metadata": {},
   "outputs": [],
   "source": [
    "# Sequential API\n",
    "# Functional API\n",
    "def mnist_mlp(img_shape=(784,), num_classes=10):\n",
    "    model = Sequential()\n",
    "    \n",
    "    model.add(Dense(256, activation='relu', input_shape=img_shape))\n",
    "    \n",
    "    model.add(Dropout(0.2))\n",
    "    \n",
    "    model.add(Dense(256, activation='relu'))\n",
    "    model.add(Dropout(0.2))\n",
    "    model.add(Dense(num_classes, activation='softmax'))\n",
    "    \n",
    "    return model"
   ]
  },
  {
   "cell_type": "markdown",
   "metadata": {},
   "source": [
    "Ta có thể dùng hàm summary() để xem lại tổng quát cấu trúc mạng vừa xây dựng, số lượng tham số..."
   ]
  },
  {
   "cell_type": "code",
   "execution_count": 46,
   "metadata": {},
   "outputs": [
    {
     "name": "stdout",
     "output_type": "stream",
     "text": [
      "Model: \"sequential_2\"\n",
      "_________________________________________________________________\n",
      "Layer (type)                 Output Shape              Param #   \n",
      "=================================================================\n",
      "dense_7 (Dense)              (None, 256)               200960    \n",
      "_________________________________________________________________\n",
      "dropout_5 (Dropout)          (None, 256)               0         \n",
      "_________________________________________________________________\n",
      "dense_8 (Dense)              (None, 256)               65792     \n",
      "_________________________________________________________________\n",
      "dropout_6 (Dropout)          (None, 256)               0         \n",
      "_________________________________________________________________\n",
      "dense_9 (Dense)              (None, 10)                2570      \n",
      "=================================================================\n",
      "Total params: 269,322\n",
      "Trainable params: 269,322\n",
      "Non-trainable params: 0\n",
      "_________________________________________________________________\n"
     ]
    }
   ],
   "source": [
    "model = mnist_mlp()\n",
    "model.summary()"
   ]
  },
  {
   "cell_type": "markdown",
   "metadata": {},
   "source": [
    "### Tải về dữ liệu MNIST"
   ]
  },
  {
   "cell_type": "code",
   "execution_count": 47,
   "metadata": {},
   "outputs": [],
   "source": [
    "import tensorflow as tf\n",
    "\n",
    "# Import MNIST data\n",
    "mnist = tf.keras.datasets.mnist\n",
    "(x_train, y_train),(x_test, y_test) = mnist.load_data()"
   ]
  },
  {
   "cell_type": "markdown",
   "metadata": {},
   "source": [
    "### Tiếp theo ta sẽ tiến hành huấn luyện mạng nơ-ron cơ bản.\n",
    "\n",
    "Đối với mạng nơ-ron cơ bản, đầu vào sẽ là một tầng layer 1D, vì thế ta cần duỗi ảnh từ 2D về 1D ((28,28) -> (784,)).\n",
    "\n",
    "Nhãn y_train và y_test được chuyển về dạng one-hot vector để tiện huấn luyện."
   ]
  },
  {
   "cell_type": "code",
   "execution_count": 48,
   "metadata": {},
   "outputs": [],
   "source": [
    "# x_train = x_train/255\n",
    "# x_test = x_test/255\n",
    "\n",
    "# # one hot\n",
    "# num_classes = 10 # Tổng số lớp của MNIST (các số từ 0-9)\n",
    "\n",
    "# y_train = keras.utils.to_categorical(y_train, num_classes)\n",
    "# y_test = keras.utils.to_categorical(y_test, num_classes)\n",
    "\n",
    "# print(x_train.shape)\n",
    "# print(x_test.shape)\n",
    "# print(y_train.shape)\n",
    "# print(y_test.shape)"
   ]
  },
  {
   "cell_type": "code",
   "execution_count": 49,
   "metadata": {},
   "outputs": [
    {
     "name": "stdout",
     "output_type": "stream",
     "text": [
      "60000 train samples\n",
      "10000 test samples\n",
      "categorical y_train:  (20400, 10)\n",
      "categorical y_test :  (10000, 10)\n"
     ]
    }
   ],
   "source": [
    "num_classes = 10\n",
    "\n",
    "x_train = x_train.reshape(60000, 784)\n",
    "x_test = x_test.reshape(10000, 784)\n",
    "x_train = x_train.astype('float32')\n",
    "x_test = x_test.astype('float32')\n",
    "x_train /= 255\n",
    "x_test /= 255\n",
    "print(x_train.shape[0], 'train samples')\n",
    "print(x_test.shape[0], 'test samples')\n",
    "\n",
    "x_train, x_test_new, y_train, y_test_new = train_test_split(x_train, y_train, test_size=0.66, random_state=42)\n",
    "\n",
    "# convert class vectors to binary class matrices\n",
    "y_train = keras.utils.to_categorical(y_train, num_classes)\n",
    "y_test = keras.utils.to_categorical(y_test, num_classes)\n",
    "print('categorical y_train: ', y_train.shape)\n",
    "print('categorical y_test : ', y_test.shape)"
   ]
  },
  {
   "cell_type": "code",
   "execution_count": 50,
   "metadata": {},
   "outputs": [
    {
     "data": {
      "text/plain": [
       "array([1., 0., 0., 0., 0., 0., 0., 0., 0., 0.], dtype=float32)"
      ]
     },
     "execution_count": 50,
     "metadata": {},
     "output_type": "execute_result"
    }
   ],
   "source": [
    "y_train[0]"
   ]
  },
  {
   "cell_type": "markdown",
   "metadata": {},
   "source": [
    "Trong Keras ta sử dụng hàm compile để thiết lập các tham số huấn luyện cho mạng:\n",
    "- loss: hàm mất mát - https://keras.io/losses/\n",
    "- optimizer: phương pháp tối ưu - https://keras.io/optimizers/\n",
    "- metrics: phương pháp đánh giá mô hình - https://keras.io/metrics/\n",
    "- ...\n",
    "\n",
    "Sau khi compile thì ta dùng hàm fit để truyền data vào huấn luyện. Một số tham số cần quan tâm:\n",
    "- batch_size: kích thước batch khi train\n",
    "- epochs: số lượng lượt train\n",
    "- validation_data: data cho validation nếu có\n",
    "- ...\n",
    "\n",
    "Dưới đây ta sẽ thử huấn luyện mạng"
   ]
  },
  {
   "cell_type": "markdown",
   "metadata": {},
   "source": [
    "### Siêu tham số"
   ]
  },
  {
   "cell_type": "code",
   "execution_count": 51,
   "metadata": {},
   "outputs": [],
   "source": [
    "learning_rate = 0.1\n",
    "num_epoch = 10\n",
    "batch_size = 128"
   ]
  },
  {
   "cell_type": "markdown",
   "metadata": {},
   "source": [
    "## Xây dựng mô hình"
   ]
  },
  {
   "cell_type": "code",
   "execution_count": 52,
   "metadata": {},
   "outputs": [
    {
     "name": "stdout",
     "output_type": "stream",
     "text": [
      "Epoch 1/10\n",
      "160/160 [==============================] - 2s 10ms/step - loss: 0.7860 - accuracy: 0.7732 - val_loss: 0.3745 - val_accuracy: 0.8948\n",
      "Epoch 2/10\n",
      "160/160 [==============================] - 2s 10ms/step - loss: 0.3646 - accuracy: 0.8931 - val_loss: 0.2650 - val_accuracy: 0.9217\n",
      "Epoch 3/10\n",
      "160/160 [==============================] - 1s 9ms/step - loss: 0.2913 - accuracy: 0.9153 - val_loss: 0.2154 - val_accuracy: 0.9357\n",
      "Epoch 4/10\n",
      "160/160 [==============================] - 1s 9ms/step - loss: 0.2489 - accuracy: 0.9276 - val_loss: 0.1993 - val_accuracy: 0.9402\n",
      "Epoch 5/10\n",
      "160/160 [==============================] - 1s 9ms/step - loss: 0.2154 - accuracy: 0.9373 - val_loss: 0.1784 - val_accuracy: 0.9452\n",
      "Epoch 6/10\n",
      "160/160 [==============================] - 1s 9ms/step - loss: 0.1930 - accuracy: 0.9429 - val_loss: 0.1546 - val_accuracy: 0.9521\n",
      "Epoch 7/10\n",
      "160/160 [==============================] - 1s 9ms/step - loss: 0.1736 - accuracy: 0.9487 - val_loss: 0.1474 - val_accuracy: 0.9555\n",
      "Epoch 8/10\n",
      "160/160 [==============================] - 2s 10ms/step - loss: 0.1573 - accuracy: 0.9538 - val_loss: 0.1402 - val_accuracy: 0.9567\n",
      "Epoch 9/10\n",
      "160/160 [==============================] - 2s 11ms/step - loss: 0.1445 - accuracy: 0.9584 - val_loss: 0.1343 - val_accuracy: 0.9575\n",
      "Epoch 10/10\n",
      "160/160 [==============================] - 1s 9ms/step - loss: 0.1300 - accuracy: 0.9622 - val_loss: 0.1234 - val_accuracy: 0.9607\n"
     ]
    }
   ],
   "source": [
    "model.compile(loss='categorical_crossentropy',\n",
    "              optimizer=keras.optimizers.SGD(lr=learning_rate),\n",
    "              metrics=['accuracy'])\n",
    "\n",
    "history = model.fit(x_train, y_train,\n",
    "                    batch_size=batch_size,\n",
    "                    epochs=num_epoch,\n",
    "                    verbose=1,\n",
    "                    validation_data=(x_test, y_test))"
   ]
  },
  {
   "cell_type": "markdown",
   "metadata": {},
   "source": [
    "### Vẽ đồ thị kết quả quá trình huấn luyện"
   ]
  },
  {
   "cell_type": "code",
   "execution_count": 53,
   "metadata": {},
   "outputs": [
    {
     "name": "stdout",
     "output_type": "stream",
     "text": [
      "dict_keys(['loss', 'accuracy', 'val_loss', 'val_accuracy'])\n"
     ]
    }
   ],
   "source": [
    "print(history.history.keys())"
   ]
  },
  {
   "cell_type": "code",
   "execution_count": 54,
   "metadata": {},
   "outputs": [
    {
     "data": {
      "image/png": "[encoded data removed]",
      "text/plain": [
       "<Figure size 432x288 with 1 Axes>"
      ]
     },
     "metadata": {
      "needs_background": "light"
     },
     "output_type": "display_data"
    },
    {
     "data": {
      "image/png": "[encoded data removed]",
      "text/plain": [
       "<Figure size 432x288 with 1 Axes>"
      ]
     },
     "metadata": {
      "needs_background": "light"
     },
     "output_type": "display_data"
    }
   ],
   "source": [
    "# summarize history for accuracy\n",
    "plt.plot(history.history['accuracy'], marker = \"*\")\n",
    "plt.plot(history.history['val_accuracy'], marker = \"*\")\n",
    "plt.title('model accuracy')\n",
    "plt.ylabel('accuracy')\n",
    "plt.xlabel('epoch')\n",
    "plt.legend(['train', 'test'], loc='upper left')\n",
    "plt.show()\n",
    "# summarize history for loss\n",
    "plt.plot(history.history['loss'], marker = \"*\")\n",
    "plt.plot(history.history['val_loss'], marker = \"*\")\n",
    "plt.title('model loss')\n",
    "plt.ylabel('loss')\n",
    "plt.xlabel('epoch')\n",
    "plt.legend(['train', 'test'], loc='upper left')\n",
    "plt.show()"
   ]
  },
  {
   "cell_type": "markdown",
   "metadata": {},
   "source": [
    "### Kiểm thử mô hình"
   ]
  },
  {
   "cell_type": "code",
   "execution_count": 55,
   "metadata": {},
   "outputs": [
    {
     "name": "stdout",
     "output_type": "stream",
     "text": [
      "Test loss: 0.12341545522212982\n",
      "Test accuracy: 0.9606999754905701\n"
     ]
    }
   ],
   "source": [
    "score = model.evaluate(x_test, y_test, verbose=0)\n",
    "print('Test loss:', score[0])\n",
    "print('Test accuracy:', score[1])"
   ]
  },
  {
   "cell_type": "markdown",
   "metadata": {},
   "source": [
    "### Như vậy model mạng nơ-ron cơ bản đạt độ chính xác khoảng 97.88%. Ta có thể lưu lại mô hình đã huấn luyện để sử dụng sau này:"
   ]
  },
  {
   "cell_type": "code",
   "execution_count": 56,
   "metadata": {},
   "outputs": [
    {
     "name": "stdout",
     "output_type": "stream",
     "text": [
      "Model: \"sequential_2\"\n",
      "_________________________________________________________________\n",
      "Layer (type)                 Output Shape              Param #   \n",
      "=================================================================\n",
      "dense_7 (Dense)              (None, 256)               200960    \n",
      "_________________________________________________________________\n",
      "dropout_5 (Dropout)          (None, 256)               0         \n",
      "_________________________________________________________________\n",
      "dense_8 (Dense)              (None, 256)               65792     \n",
      "_________________________________________________________________\n",
      "dropout_6 (Dropout)          (None, 256)               0         \n",
      "_________________________________________________________________\n",
      "dense_9 (Dense)              (None, 10)                2570      \n",
      "=================================================================\n",
      "Total params: 269,322\n",
      "Trainable params: 269,322\n",
      "Non-trainable params: 0\n",
      "_________________________________________________________________\n",
      "313/313 [==============================] - 1s 2ms/step - loss: 0.1234 - accuracy: 0.9607\n",
      "Test loss: 0.12341545522212982\n",
      "Test accuracy: 0.9606999754905701\n"
     ]
    }
   ],
   "source": [
    "# Save architecture and weight\n",
    "with open('mnist_mlp.json', 'w') as f:\n",
    "    f.write(model.to_json())\n",
    "model.save_weights(\"mnist_mlp_weight.h5\")\n",
    "\n",
    "# Load trained model\n",
    "json_file = open('mnist_mlp.json', 'r')\n",
    "loaded_model_json = json_file.read()\n",
    "json_file.close()\n",
    "loaded_model = model_from_json(loaded_model_json)\n",
    "\n",
    "loaded_model.load_weights(\"mnist_mlp_weight.h5\")\n",
    "loaded_model.summary()\n",
    "\n",
    "# Re-compile and evaluate model\n",
    "loaded_model.compile(optimizer=keras.optimizers.RMSprop(), loss='categorical_crossentropy', metrics=['accuracy'])\n",
    "score = loaded_model.evaluate(x_test, y_test)\n",
    "print('Test loss:', score[0])\n",
    "print('Test accuracy:', score[1])"
   ]
  },
  {
   "cell_type": "markdown",
   "metadata": {},
   "source": [
    "### Dự đoán một vài điểm dữ liệu"
   ]
  },
  {
   "cell_type": "code",
   "execution_count": 57,
   "metadata": {},
   "outputs": [
    {
     "data": {
      "text/plain": [
       "<matplotlib.image.AxesImage at 0x22eb2db3eb8>"
      ]
     },
     "execution_count": 57,
     "metadata": {},
     "output_type": "execute_result"
    },
    {
     "data": {
      "image/png": "[encoded data removed]",
      "text/plain": [
       "<Figure size 432x288 with 1 Axes>"
      ]
     },
     "metadata": {
      "needs_background": "light"
     },
     "output_type": "display_data"
    }
   ],
   "source": [
    "plt.imshow(x_test[500].reshape(28,28), cmap='gray')"
   ]
  },
  {
   "cell_type": "code",
   "execution_count": 58,
   "metadata": {},
   "outputs": [
    {
     "name": "stdout",
     "output_type": "stream",
     "text": [
      "[[7.1960997e-09 4.0604533e-07 8.8668536e-08 9.9998534e-01 2.3865527e-09\n",
      "  1.0355207e-05 3.4969624e-11 5.5324712e-08 6.6463303e-07 3.0703200e-06]]\n"
     ]
    }
   ],
   "source": [
    "result = model.predict(x_test[500].reshape((1,784)))\n",
    "print(result)"
   ]
  },
  {
   "cell_type": "code",
   "execution_count": 59,
   "metadata": {},
   "outputs": [
    {
     "data": {
      "text/plain": [
       "3"
      ]
     },
     "execution_count": 59,
     "metadata": {},
     "output_type": "execute_result"
    }
   ],
   "source": [
    "np.argmax(result)"
   ]
  }
 ],
 "metadata": {
  "kernelspec": {
   "display_name": "Python 3",
   "language": "python",
   "name": "python3"
  },
  "language_info": {
   "codemirror_mode": {
    "name": "ipython",
    "version": 3
   },
   "file_extension": ".py",
   "mimetype": "text/x-python",
   "name": "python",
   "nbconvert_exporter": "python",
   "pygments_lexer": "ipython3",
   "version": "3.6.10"
  }
 },
 "nbformat": 4,
 "nbformat_minor": 2
}
