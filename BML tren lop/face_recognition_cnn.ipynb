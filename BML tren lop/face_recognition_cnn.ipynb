{
 "cells": [
  {
   "cell_type": "code",
   "execution_count": 1,
   "metadata": {},
   "outputs": [],
   "source": [
    "import numpy as np\n",
    "from tensorflow import keras\n",
    "from tensorflow.keras import layers\n",
    "import cv2\n",
    "from keras.models import Sequential\n",
    "from keras.layers.convolutional import Conv2D\n",
    "from keras.layers.convolutional import MaxPooling2D\n",
    "from keras.layers.core import Activation\n",
    "from keras.layers.core import Flatten\n",
    "from keras.layers.core import Dense"
   ]
  },
  {
   "cell_type": "code",
   "execution_count": 2,
   "metadata": {},
   "outputs": [],
   "source": [
    "path_train='data/Face_Train'\n",
    "path_test='data/Face_Test'\n",
    "img_size=128\n",
    "num_classes=10\n",
    "import os\n",
    "def get_images(path):\n",
    "    images = []\n",
    "    labels = []\n",
    "    k=0\n",
    "    for subdir,_, files in os.walk(path):\n",
    "        if subdir==path:\n",
    "            continue\n",
    "        for line in files:\n",
    "            if line.startswith('.'):\n",
    "                continue\n",
    "            fields = subdir.strip().split('/')\n",
    "            file_name=os.path.join(subdir, line)\n",
    "            label=fields[-1]\n",
    "            image = cv2.imread(file_name,1)\n",
    "            image=cv2.resize(image,(img_size,img_size))\n",
    "            images.append(image)\n",
    "            labels.append(label)\n",
    "        k=k+1\n",
    "    return images, labels\n",
    "\n",
    "images_train,label_train=get_images(path_train)\n",
    "images_test,label_test=get_images(path_test)"
   ]
  },
  {
   "cell_type": "code",
   "execution_count": 3,
   "metadata": {},
   "outputs": [
    {
     "name": "stdout",
     "output_type": "stream",
     "text": [
      "(308, 128, 128, 3)\n",
      "(308,)\n"
     ]
    }
   ],
   "source": [
    "x_train=np.array(images_train)\n",
    "print(x_train.shape)\n",
    "y_train=np.array(label_train)\n",
    "print(y_train.shape)"
   ]
  },
  {
   "cell_type": "code",
   "execution_count": 4,
   "metadata": {},
   "outputs": [
    {
     "name": "stdout",
     "output_type": "stream",
     "text": [
      "(100, 128, 128, 3)\n",
      "{'9', '1', '3', '5', '6', '7', '8', '0', '2', '4'}\n"
     ]
    }
   ],
   "source": [
    "x_test=np.array(images_test)\n",
    "y_test=np.array(label_test)\n",
    "x_train=x_train/255.0\n",
    "x_test=x_test/255.0\n",
    "print(x_test.shape)\n",
    "print(set(y_train))"
   ]
  },
  {
   "cell_type": "code",
   "execution_count": 5,
   "metadata": {},
   "outputs": [],
   "source": [
    "y_train = keras.utils.to_categorical(y_train, num_classes)\n",
    "y_test = keras.utils.to_categorical(y_test, num_classes)"
   ]
  },
  {
   "cell_type": "code",
   "execution_count": 6,
   "metadata": {},
   "outputs": [],
   "source": [
    "input_shape = (img_size, img_size, 3)"
   ]
  },
  {
   "cell_type": "code",
   "execution_count": 7,
   "metadata": {},
   "outputs": [
    {
     "name": "stdout",
     "output_type": "stream",
     "text": [
      "Model: \"sequential\"\n",
      "_________________________________________________________________\n",
      "Layer (type)                 Output Shape              Param #   \n",
      "=================================================================\n",
      "conv2d (Conv2D)              (None, 128, 128, 32)      896       \n",
      "_________________________________________________________________\n",
      "activation (Activation)      (None, 128, 128, 32)      0         \n",
      "_________________________________________________________________\n",
      "max_pooling2d (MaxPooling2D) (None, 64, 64, 32)        0         \n",
      "_________________________________________________________________\n",
      "conv2d_1 (Conv2D)            (None, 64, 64, 64)        18496     \n",
      "_________________________________________________________________\n",
      "activation_1 (Activation)    (None, 64, 64, 64)        0         \n",
      "_________________________________________________________________\n",
      "max_pooling2d_1 (MaxPooling2 (None, 32, 32, 64)        0         \n",
      "_________________________________________________________________\n",
      "conv2d_2 (Conv2D)            (None, 32, 32, 128)       73856     \n",
      "_________________________________________________________________\n",
      "activation_2 (Activation)    (None, 32, 32, 128)       0         \n",
      "_________________________________________________________________\n",
      "max_pooling2d_2 (MaxPooling2 (None, 16, 16, 128)       0         \n",
      "_________________________________________________________________\n",
      "flatten (Flatten)            (None, 32768)             0         \n",
      "_________________________________________________________________\n",
      "dense (Dense)                (None, 500)               16384500  \n",
      "_________________________________________________________________\n",
      "activation_3 (Activation)    (None, 500)               0         \n",
      "_________________________________________________________________\n",
      "dense_1 (Dense)              (None, 10)                5010      \n",
      "_________________________________________________________________\n",
      "activation_4 (Activation)    (None, 10)                0         \n",
      "=================================================================\n",
      "Total params: 16,482,758\n",
      "Trainable params: 16,482,758\n",
      "Non-trainable params: 0\n",
      "_________________________________________________________________\n",
      "None\n"
     ]
    }
   ],
   "source": [
    "model = Sequential()\n",
    "#CONV => RELU => POOL\n",
    "model.add(Conv2D(32, kernel_size=3, padding=\"same\",input_shape=input_shape))\n",
    "model.add(Activation(\"relu\"))\n",
    "model.add(MaxPooling2D(pool_size=(2, 2), strides=(2, 2)))\n",
    "# CONV => RELU => POOL\n",
    "model.add(Conv2D(64, kernel_size=3, padding=\"same\"))\n",
    "model.add(Activation(\"relu\"))\n",
    "model.add(MaxPooling2D(pool_size=(2, 2), strides=(2, 2)))\n",
    "# Flatten => RELU layers\n",
    "model.add(Conv2D(128, kernel_size=3, padding=\"same\"))\n",
    "model.add(Activation(\"relu\"))\n",
    "model.add(MaxPooling2D(pool_size=(2, 2), strides=(2, 2)))\n",
    "# Flatten => RELU layers\n",
    "model.add(Flatten())\n",
    "model.add(Dense(500))\n",
    "model.add(Activation(\"tanh\"))\n",
    "\n",
    "# a softmax classifier\n",
    "model.add(Dense(num_classes))\n",
    "model.add(Activation(\"softmax\"))\n",
    "print(model.summary())"
   ]
  },
  {
   "cell_type": "code",
   "execution_count": null,
   "metadata": {},
   "outputs": [
    {
     "name": "stdout",
     "output_type": "stream",
     "text": [
      "Epoch 1/10\n",
      "9/9 [==============================] - 3s 302ms/step - loss: 3.3488 - accuracy: 0.2455 - val_loss: 3.7127 - val_accuracy: 0.0000e+00\n",
      "Epoch 2/10\n",
      "9/9 [==============================] - 3s 291ms/step - loss: 1.7818 - accuracy: 0.4079 - val_loss: 4.8345 - val_accuracy: 0.0000e+00\n",
      "Epoch 3/10\n",
      "9/9 [==============================] - 3s 315ms/step - loss: 1.2387 - accuracy: 0.6426 - val_loss: 4.5730 - val_accuracy: 0.0000e+00\n",
      "Epoch 4/10\n",
      "9/9 [==============================] - 3s 315ms/step - loss: 0.6557 - accuracy: 0.7834 - val_loss: 4.7362 - val_accuracy: 0.0968\n",
      "Epoch 5/10\n",
      "9/9 [==============================] - 3s 323ms/step - loss: 0.4325 - accuracy: 0.8448 - val_loss: 4.4012 - val_accuracy: 0.0968\n",
      "Epoch 6/10\n",
      "9/9 [==============================] - 3s 327ms/step - loss: 0.2504 - accuracy: 0.9314 - val_loss: 6.8686 - val_accuracy: 0.0968\n",
      "Epoch 7/10\n",
      "9/9 [==============================] - 3s 317ms/step - loss: 0.1206 - accuracy: 0.9603 - val_loss: 7.6935 - val_accuracy: 0.0645\n",
      "Epoch 8/10\n"
     ]
    }
   ],
   "source": [
    "batch_size = 32\n",
    "epochs = 10\n",
    "\n",
    "model.compile(loss=\"categorical_crossentropy\", optimizer=\"adam\", metrics=[\"accuracy\"])\n",
    "\n",
    "model.fit(x_train, y_train, batch_size=batch_size, epochs=epochs, validation_split=0.1)"
   ]
  },
  {
   "cell_type": "code",
   "execution_count": null,
   "metadata": {},
   "outputs": [],
   "source": [
    "score = model.evaluate(x_test, y_test, verbose=0)\n",
    "print(\"Test loss:\", score[0])\n",
    "print(\"Test accuracy:\", score[1])"
   ]
  },
  {
   "cell_type": "code",
   "execution_count": null,
   "metadata": {},
   "outputs": [],
   "source": []
  }
 ],
 "metadata": {
  "kernelspec": {
   "display_name": "Python 3",
   "language": "python",
   "name": "python3"
  },
  "language_info": {
   "codemirror_mode": {
    "name": "ipython",
    "version": 3
   },
   "file_extension": ".py",
   "mimetype": "text/x-python",
   "name": "python",
   "nbconvert_exporter": "python",
   "pygments_lexer": "ipython3",
   "version": "3.8.2"
  }
 },
 "nbformat": 4,
 "nbformat_minor": 4
}
