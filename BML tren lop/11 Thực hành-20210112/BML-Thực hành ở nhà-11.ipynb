{
 "cells": [
  {
   "cell_type": "markdown",
   "metadata": {},
   "source": [
    "# BTVN Assignment 11: Phân cụm phổ (Spectral clustering)\n",
    "\n",
    "Sử dụng phương pháp phân cụm phổ để phát hiện các cộng đồng facebook trên các tập dữ liệu sau: http://networkrepository.com/socfb"
   ]
  }
 ],
 "metadata": {
  "kernelspec": {
   "display_name": "Python 3",
   "language": "python",
   "name": "python3"
  },
  "language_info": {
   "codemirror_mode": {
    "name": "ipython",
    "version": 3
   },
   "file_extension": ".py",
   "mimetype": "text/x-python",
   "name": "python",
   "nbconvert_exporter": "python",
   "pygments_lexer": "ipython3",
   "version": "3.7.3"
  }
 },
 "nbformat": 4,
 "nbformat_minor": 2
}
