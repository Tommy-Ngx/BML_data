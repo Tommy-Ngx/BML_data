{
 "cells": [
  {
   "cell_type": "markdown",
   "metadata": {},
   "source": [
    "# Ensemble learning với gene di truyền để dự đoán ung thư\n"
   ]
  },
  {
   "cell_type": "markdown",
   "metadata": {},
   "source": [
    "# 1. Khám Phá dữ liệu"
   ]
  },
  {
   "cell_type": "code",
   "execution_count": 2,
   "metadata": {},
   "outputs": [],
   "source": [
    "import pandas as pd\n",
    "import numpy as np\n",
    "import matplotlib.pyplot as plt\n",
    "%matplotlib inline\n",
    "from scipy.io import arff\n"
   ]
  },
  {
   "cell_type": "code",
   "execution_count": 5,
   "metadata": {},
   "outputs": [
    {
     "name": "stdout",
     "output_type": "stream",
     "text": [
      "Collecting liac-arff\n",
      "  Downloading liac-arff-2.5.0.tar.gz (13 kB)\n",
      "Building wheels for collected packages: liac-arff\n",
      "  Building wheel for liac-arff (setup.py): started\n",
      "  Building wheel for liac-arff (setup.py): finished with status 'done'\n",
      "  Created wheel for liac-arff: filename=liac_arff-2.5.0-py3-none-any.whl size=11737 sha256=4f8338498f303c2aa1b122e8f3327c8c46b1de810eb70e814ed3c57622efd706\n",
      "  Stored in directory: c:\\users\\h\\appdata\\local\\pip\\cache\\wheels\\53\\ba\\da\\8562a6a6dbb428fd1ecc21053106df3948645cd991958f669b\n",
      "Successfully built liac-arff\n",
      "Installing collected packages: liac-arff\n",
      "Successfully installed liac-arff-2.5.0\n"
     ]
    }
   ],
   "source": [
    "!pip install liac-arff"
   ]
  },
  {
   "cell_type": "code",
   "execution_count": 52,
   "metadata": {},
   "outputs": [],
   "source": [
    "import arff, numpy as np\n",
    "dataset = arff.load(open('lymphoma.arff', 'r'))"
   ]
  },
  {
   "cell_type": "code",
   "execution_count": 53,
   "metadata": {},
   "outputs": [
    {
     "data": {
      "text/plain": [
       "dict_keys(['description', 'relation', 'attributes', 'data'])"
      ]
     },
     "execution_count": 53,
     "metadata": {},
     "output_type": "execute_result"
    }
   ],
   "source": [
    "dataset.keys()"
   ]
  },
  {
   "cell_type": "code",
   "execution_count": 54,
   "metadata": {},
   "outputs": [],
   "source": [
    "column_names = []\n",
    "for pair in dataset[\"attributes\"]:\n",
    "    column_names.append(pair[0])"
   ]
  },
  {
   "cell_type": "code",
   "execution_count": 55,
   "metadata": {},
   "outputs": [],
   "source": [
    "df = pd.DataFrame(data = np.array(dataset['data']))\n",
    "list(gene_df.columns)\n",
    "\n",
    "for idx in range(len(list(df.columns))):\n",
    "    df.rename(columns = {idx: column_names[idx]}, inplace = True)"
   ]
  },
  {
   "cell_type": "code",
   "execution_count": 50,
   "metadata": {},
   "outputs": [
    {
     "data": {
      "text/html": [
       "<div>\n",
       "<style scoped>\n",
       "    .dataframe tbody tr th:only-of-type {\n",
       "        vertical-align: middle;\n",
       "    }\n",
       "\n",
       "    .dataframe tbody tr th {\n",
       "        vertical-align: top;\n",
       "    }\n",
       "\n",
       "    .dataframe thead th {\n",
       "        text-align: right;\n",
       "    }\n",
       "</style>\n",
       "<table border=\"1\" class=\"dataframe\">\n",
       "  <thead>\n",
       "    <tr style=\"text-align: right;\">\n",
       "      <th></th>\n",
       "      <th>GENE1835X</th>\n",
       "      <th>GENE1836X</th>\n",
       "      <th>GENE1865X</th>\n",
       "      <th>GENE1380X</th>\n",
       "      <th>GENE1933X</th>\n",
       "      <th>GENE1932X</th>\n",
       "      <th>GENE1931X</th>\n",
       "      <th>GENE1930X</th>\n",
       "      <th>GENE3129X</th>\n",
       "      <th>GENE3126X</th>\n",
       "      <th>...</th>\n",
       "      <th>GENE3931X</th>\n",
       "      <th>GENE2588X</th>\n",
       "      <th>GENE3120X</th>\n",
       "      <th>GENE6X</th>\n",
       "      <th>GENE5X</th>\n",
       "      <th>GENE3X</th>\n",
       "      <th>GENE2X</th>\n",
       "      <th>GENE48X</th>\n",
       "      <th>GENE47X</th>\n",
       "      <th>class</th>\n",
       "    </tr>\n",
       "  </thead>\n",
       "  <tbody>\n",
       "    <tr>\n",
       "      <th>0</th>\n",
       "      <td>0.46</td>\n",
       "      <td>0.7</td>\n",
       "      <td>0.67</td>\n",
       "      <td>-0.23</td>\n",
       "      <td>0</td>\n",
       "      <td>0.09</td>\n",
       "      <td>-0.02</td>\n",
       "      <td>-0.57</td>\n",
       "      <td>-0.17</td>\n",
       "      <td>-0.25</td>\n",
       "      <td>...</td>\n",
       "      <td>0.4</td>\n",
       "      <td>0.02</td>\n",
       "      <td>0.79</td>\n",
       "      <td>0.64</td>\n",
       "      <td>0.16</td>\n",
       "      <td>1.22</td>\n",
       "      <td>1.37</td>\n",
       "      <td>-0.04</td>\n",
       "      <td>0.16</td>\n",
       "      <td>DLBCL</td>\n",
       "    </tr>\n",
       "    <tr>\n",
       "      <th>1</th>\n",
       "      <td>0.02</td>\n",
       "      <td>0.59</td>\n",
       "      <td>0.45</td>\n",
       "      <td>0.55</td>\n",
       "      <td>-0.08</td>\n",
       "      <td>-0.15</td>\n",
       "      <td>-0.05</td>\n",
       "      <td>-0.38</td>\n",
       "      <td>-0.55</td>\n",
       "      <td>0.35</td>\n",
       "      <td>...</td>\n",
       "      <td>0.57</td>\n",
       "      <td>0.52</td>\n",
       "      <td>-0.23</td>\n",
       "      <td>0.3</td>\n",
       "      <td>0.09</td>\n",
       "      <td>-0.2</td>\n",
       "      <td>-0.05</td>\n",
       "      <td>-0.14</td>\n",
       "      <td>-1.15</td>\n",
       "      <td>DLBCL</td>\n",
       "    </tr>\n",
       "    <tr>\n",
       "      <th>2</th>\n",
       "      <td>-0.32</td>\n",
       "      <td>-0.63</td>\n",
       "      <td>-0.46</td>\n",
       "      <td>-0.28</td>\n",
       "      <td>-0.96</td>\n",
       "      <td>-1.17</td>\n",
       "      <td>-1.13</td>\n",
       "      <td>-0.89</td>\n",
       "      <td>-0.49</td>\n",
       "      <td>-0.23</td>\n",
       "      <td>...</td>\n",
       "      <td>1.62</td>\n",
       "      <td>-0.01</td>\n",
       "      <td>None</td>\n",
       "      <td>0.29</td>\n",
       "      <td>-0.57</td>\n",
       "      <td>1.2</td>\n",
       "      <td>1.4</td>\n",
       "      <td>0.29</td>\n",
       "      <td>0.25</td>\n",
       "      <td>DLBCL</td>\n",
       "    </tr>\n",
       "    <tr>\n",
       "      <th>3</th>\n",
       "      <td>-0.51</td>\n",
       "      <td>-0.45</td>\n",
       "      <td>-0.16</td>\n",
       "      <td>-0.51</td>\n",
       "      <td>-0.58</td>\n",
       "      <td>-0.71</td>\n",
       "      <td>-0.65</td>\n",
       "      <td>-0.82</td>\n",
       "      <td>-0.3</td>\n",
       "      <td>-0.22</td>\n",
       "      <td>...</td>\n",
       "      <td>0.34</td>\n",
       "      <td>0.02</td>\n",
       "      <td>0.08</td>\n",
       "      <td>0.49</td>\n",
       "      <td>0.29</td>\n",
       "      <td>1.26</td>\n",
       "      <td>1.24</td>\n",
       "      <td>0.05</td>\n",
       "      <td>0.7</td>\n",
       "      <td>DLBCL</td>\n",
       "    </tr>\n",
       "    <tr>\n",
       "      <th>4</th>\n",
       "      <td>0.2</td>\n",
       "      <td>0.13</td>\n",
       "      <td>0.2</td>\n",
       "      <td>0.09</td>\n",
       "      <td>-0.56</td>\n",
       "      <td>0</td>\n",
       "      <td>0.06</td>\n",
       "      <td>-0.15</td>\n",
       "      <td>-0.61</td>\n",
       "      <td>-0.65</td>\n",
       "      <td>...</td>\n",
       "      <td>0.16</td>\n",
       "      <td>0.66</td>\n",
       "      <td>1.11</td>\n",
       "      <td>0.28</td>\n",
       "      <td>0.12</td>\n",
       "      <td>-0.16</td>\n",
       "      <td>-0.72</td>\n",
       "      <td>-0.04</td>\n",
       "      <td>-0.22</td>\n",
       "      <td>DLBCL</td>\n",
       "    </tr>\n",
       "    <tr>\n",
       "      <th>...</th>\n",
       "      <td>...</td>\n",
       "      <td>...</td>\n",
       "      <td>...</td>\n",
       "      <td>...</td>\n",
       "      <td>...</td>\n",
       "      <td>...</td>\n",
       "      <td>...</td>\n",
       "      <td>...</td>\n",
       "      <td>...</td>\n",
       "      <td>...</td>\n",
       "      <td>...</td>\n",
       "      <td>...</td>\n",
       "      <td>...</td>\n",
       "      <td>...</td>\n",
       "      <td>...</td>\n",
       "      <td>...</td>\n",
       "      <td>...</td>\n",
       "      <td>...</td>\n",
       "      <td>...</td>\n",
       "      <td>...</td>\n",
       "      <td>...</td>\n",
       "    </tr>\n",
       "    <tr>\n",
       "      <th>61</th>\n",
       "      <td>0.77</td>\n",
       "      <td>None</td>\n",
       "      <td>0.8</td>\n",
       "      <td>-0.13</td>\n",
       "      <td>0.52</td>\n",
       "      <td>-0.58</td>\n",
       "      <td>-0.44</td>\n",
       "      <td>0.25</td>\n",
       "      <td>0.15</td>\n",
       "      <td>None</td>\n",
       "      <td>...</td>\n",
       "      <td>-0.37</td>\n",
       "      <td>None</td>\n",
       "      <td>None</td>\n",
       "      <td>None</td>\n",
       "      <td>-0.52</td>\n",
       "      <td>None</td>\n",
       "      <td>None</td>\n",
       "      <td>-0.86</td>\n",
       "      <td>None</td>\n",
       "      <td>CLL</td>\n",
       "    </tr>\n",
       "    <tr>\n",
       "      <th>62</th>\n",
       "      <td>-0.03</td>\n",
       "      <td>-0.38</td>\n",
       "      <td>0.01</td>\n",
       "      <td>0.29</td>\n",
       "      <td>-0.11</td>\n",
       "      <td>-0.13</td>\n",
       "      <td>-0.36</td>\n",
       "      <td>0.46</td>\n",
       "      <td>0.19</td>\n",
       "      <td>-0.05</td>\n",
       "      <td>...</td>\n",
       "      <td>-0.23</td>\n",
       "      <td>-0.19</td>\n",
       "      <td>-0.85</td>\n",
       "      <td>-1</td>\n",
       "      <td>-0.89</td>\n",
       "      <td>-1.79</td>\n",
       "      <td>-1.56</td>\n",
       "      <td>-0.26</td>\n",
       "      <td>1.04</td>\n",
       "      <td>CLL</td>\n",
       "    </tr>\n",
       "    <tr>\n",
       "      <th>63</th>\n",
       "      <td>0.09</td>\n",
       "      <td>None</td>\n",
       "      <td>0.85</td>\n",
       "      <td>0.55</td>\n",
       "      <td>0.3</td>\n",
       "      <td>0.3</td>\n",
       "      <td>0.16</td>\n",
       "      <td>0.34</td>\n",
       "      <td>0.9</td>\n",
       "      <td>0.85</td>\n",
       "      <td>...</td>\n",
       "      <td>0.09</td>\n",
       "      <td>-0.46</td>\n",
       "      <td>-0.14</td>\n",
       "      <td>None</td>\n",
       "      <td>-0.83</td>\n",
       "      <td>None</td>\n",
       "      <td>None</td>\n",
       "      <td>0.09</td>\n",
       "      <td>-0.53</td>\n",
       "      <td>CLL</td>\n",
       "    </tr>\n",
       "    <tr>\n",
       "      <th>64</th>\n",
       "      <td>0.34</td>\n",
       "      <td>None</td>\n",
       "      <td>0.36</td>\n",
       "      <td>0.11</td>\n",
       "      <td>0.15</td>\n",
       "      <td>0.19</td>\n",
       "      <td>-0.11</td>\n",
       "      <td>0.27</td>\n",
       "      <td>0.59</td>\n",
       "      <td>0.55</td>\n",
       "      <td>...</td>\n",
       "      <td>0.41</td>\n",
       "      <td>None</td>\n",
       "      <td>None</td>\n",
       "      <td>-0.42</td>\n",
       "      <td>-0.25</td>\n",
       "      <td>None</td>\n",
       "      <td>None</td>\n",
       "      <td>-0.33</td>\n",
       "      <td>None</td>\n",
       "      <td>CLL</td>\n",
       "    </tr>\n",
       "    <tr>\n",
       "      <th>65</th>\n",
       "      <td>0.37</td>\n",
       "      <td>0.38</td>\n",
       "      <td>0.3</td>\n",
       "      <td>-0.08</td>\n",
       "      <td>-0.45</td>\n",
       "      <td>-0.22</td>\n",
       "      <td>0.34</td>\n",
       "      <td>-0.53</td>\n",
       "      <td>-0.26</td>\n",
       "      <td>-0.87</td>\n",
       "      <td>...</td>\n",
       "      <td>0.61</td>\n",
       "      <td>-0.25</td>\n",
       "      <td>-0.39</td>\n",
       "      <td>-0.33</td>\n",
       "      <td>0.13</td>\n",
       "      <td>0.49</td>\n",
       "      <td>0.75</td>\n",
       "      <td>0.46</td>\n",
       "      <td>0.8</td>\n",
       "      <td>DLBCL</td>\n",
       "    </tr>\n",
       "  </tbody>\n",
       "</table>\n",
       "<p>66 rows × 4027 columns</p>\n",
       "</div>"
      ],
      "text/plain": [
       "   GENE1835X GENE1836X GENE1865X GENE1380X GENE1933X GENE1932X GENE1931X  \\\n",
       "0       0.46       0.7      0.67     -0.23         0      0.09     -0.02   \n",
       "1       0.02      0.59      0.45      0.55     -0.08     -0.15     -0.05   \n",
       "2      -0.32     -0.63     -0.46     -0.28     -0.96     -1.17     -1.13   \n",
       "3      -0.51     -0.45     -0.16     -0.51     -0.58     -0.71     -0.65   \n",
       "4        0.2      0.13       0.2      0.09     -0.56         0      0.06   \n",
       "..       ...       ...       ...       ...       ...       ...       ...   \n",
       "61      0.77      None       0.8     -0.13      0.52     -0.58     -0.44   \n",
       "62     -0.03     -0.38      0.01      0.29     -0.11     -0.13     -0.36   \n",
       "63      0.09      None      0.85      0.55       0.3       0.3      0.16   \n",
       "64      0.34      None      0.36      0.11      0.15      0.19     -0.11   \n",
       "65      0.37      0.38       0.3     -0.08     -0.45     -0.22      0.34   \n",
       "\n",
       "   GENE1930X GENE3129X GENE3126X  ... GENE3931X GENE2588X GENE3120X GENE6X  \\\n",
       "0      -0.57     -0.17     -0.25  ...       0.4      0.02      0.79   0.64   \n",
       "1      -0.38     -0.55      0.35  ...      0.57      0.52     -0.23    0.3   \n",
       "2      -0.89     -0.49     -0.23  ...      1.62     -0.01      None   0.29   \n",
       "3      -0.82      -0.3     -0.22  ...      0.34      0.02      0.08   0.49   \n",
       "4      -0.15     -0.61     -0.65  ...      0.16      0.66      1.11   0.28   \n",
       "..       ...       ...       ...  ...       ...       ...       ...    ...   \n",
       "61      0.25      0.15      None  ...     -0.37      None      None   None   \n",
       "62      0.46      0.19     -0.05  ...     -0.23     -0.19     -0.85     -1   \n",
       "63      0.34       0.9      0.85  ...      0.09     -0.46     -0.14   None   \n",
       "64      0.27      0.59      0.55  ...      0.41      None      None  -0.42   \n",
       "65     -0.53     -0.26     -0.87  ...      0.61     -0.25     -0.39  -0.33   \n",
       "\n",
       "   GENE5X GENE3X GENE2X GENE48X GENE47X  class  \n",
       "0    0.16   1.22   1.37   -0.04    0.16  DLBCL  \n",
       "1    0.09   -0.2  -0.05   -0.14   -1.15  DLBCL  \n",
       "2   -0.57    1.2    1.4    0.29    0.25  DLBCL  \n",
       "3    0.29   1.26   1.24    0.05     0.7  DLBCL  \n",
       "4    0.12  -0.16  -0.72   -0.04   -0.22  DLBCL  \n",
       "..    ...    ...    ...     ...     ...    ...  \n",
       "61  -0.52   None   None   -0.86    None    CLL  \n",
       "62  -0.89  -1.79  -1.56   -0.26    1.04    CLL  \n",
       "63  -0.83   None   None    0.09   -0.53    CLL  \n",
       "64  -0.25   None   None   -0.33    None    CLL  \n",
       "65   0.13   0.49   0.75    0.46     0.8  DLBCL  \n",
       "\n",
       "[66 rows x 4027 columns]"
      ]
     },
     "execution_count": 50,
     "metadata": {},
     "output_type": "execute_result"
    }
   ],
   "source": [
    "gene_df"
   ]
  },
  {
   "cell_type": "code",
   "execution_count": 56,
   "metadata": {},
   "outputs": [
    {
     "data": {
      "text/plain": [
       "(66, 4027)"
      ]
     },
     "execution_count": 56,
     "metadata": {},
     "output_type": "execute_result"
    }
   ],
   "source": [
    "df.shape"
   ]
  },
  {
   "cell_type": "code",
   "execution_count": 57,
   "metadata": {
    "scrolled": true
   },
   "outputs": [
    {
     "data": {
      "text/plain": [
       "Index(['GENE1835X', 'GENE1836X', 'GENE1865X', 'GENE1380X', 'GENE1933X',\n",
       "       'GENE1932X', 'GENE1931X', 'GENE1930X', 'GENE3129X', 'GENE3126X',\n",
       "       ...\n",
       "       'GENE3931X', 'GENE2588X', 'GENE3120X', 'GENE6X', 'GENE5X', 'GENE3X',\n",
       "       'GENE2X', 'GENE48X', 'GENE47X', 'class'],\n",
       "      dtype='object', length=4027)"
      ]
     },
     "execution_count": 57,
     "metadata": {},
     "output_type": "execute_result"
    }
   ],
   "source": [
    "df.columns"
   ]
  },
  {
   "cell_type": "code",
   "execution_count": 58,
   "metadata": {},
   "outputs": [
    {
     "data": {
      "text/plain": [
       "(66, 4027)"
      ]
     },
     "execution_count": 58,
     "metadata": {},
     "output_type": "execute_result"
    }
   ],
   "source": [
    "df.shape"
   ]
  },
  {
   "cell_type": "code",
   "execution_count": 59,
   "metadata": {},
   "outputs": [
    {
     "data": {
      "text/html": [
       "<div>\n",
       "<style scoped>\n",
       "    .dataframe tbody tr th:only-of-type {\n",
       "        vertical-align: middle;\n",
       "    }\n",
       "\n",
       "    .dataframe tbody tr th {\n",
       "        vertical-align: top;\n",
       "    }\n",
       "\n",
       "    .dataframe thead th {\n",
       "        text-align: right;\n",
       "    }\n",
       "</style>\n",
       "<table border=\"1\" class=\"dataframe\">\n",
       "  <thead>\n",
       "    <tr style=\"text-align: right;\">\n",
       "      <th></th>\n",
       "      <th>GENE1835X</th>\n",
       "      <th>GENE1836X</th>\n",
       "      <th>GENE1865X</th>\n",
       "      <th>GENE1380X</th>\n",
       "      <th>GENE1933X</th>\n",
       "      <th>GENE1932X</th>\n",
       "      <th>GENE1931X</th>\n",
       "      <th>GENE1930X</th>\n",
       "      <th>GENE3129X</th>\n",
       "      <th>GENE3126X</th>\n",
       "      <th>...</th>\n",
       "      <th>GENE3931X</th>\n",
       "      <th>GENE2588X</th>\n",
       "      <th>GENE3120X</th>\n",
       "      <th>GENE6X</th>\n",
       "      <th>GENE5X</th>\n",
       "      <th>GENE3X</th>\n",
       "      <th>GENE2X</th>\n",
       "      <th>GENE48X</th>\n",
       "      <th>GENE47X</th>\n",
       "      <th>class</th>\n",
       "    </tr>\n",
       "  </thead>\n",
       "  <tbody>\n",
       "    <tr>\n",
       "      <th>0</th>\n",
       "      <td>0.46</td>\n",
       "      <td>0.7</td>\n",
       "      <td>0.67</td>\n",
       "      <td>-0.23</td>\n",
       "      <td>0</td>\n",
       "      <td>0.09</td>\n",
       "      <td>-0.02</td>\n",
       "      <td>-0.57</td>\n",
       "      <td>-0.17</td>\n",
       "      <td>-0.25</td>\n",
       "      <td>...</td>\n",
       "      <td>0.4</td>\n",
       "      <td>0.02</td>\n",
       "      <td>0.79</td>\n",
       "      <td>0.64</td>\n",
       "      <td>0.16</td>\n",
       "      <td>1.22</td>\n",
       "      <td>1.37</td>\n",
       "      <td>-0.04</td>\n",
       "      <td>0.16</td>\n",
       "      <td>DLBCL</td>\n",
       "    </tr>\n",
       "    <tr>\n",
       "      <th>1</th>\n",
       "      <td>0.02</td>\n",
       "      <td>0.59</td>\n",
       "      <td>0.45</td>\n",
       "      <td>0.55</td>\n",
       "      <td>-0.08</td>\n",
       "      <td>-0.15</td>\n",
       "      <td>-0.05</td>\n",
       "      <td>-0.38</td>\n",
       "      <td>-0.55</td>\n",
       "      <td>0.35</td>\n",
       "      <td>...</td>\n",
       "      <td>0.57</td>\n",
       "      <td>0.52</td>\n",
       "      <td>-0.23</td>\n",
       "      <td>0.3</td>\n",
       "      <td>0.09</td>\n",
       "      <td>-0.2</td>\n",
       "      <td>-0.05</td>\n",
       "      <td>-0.14</td>\n",
       "      <td>-1.15</td>\n",
       "      <td>DLBCL</td>\n",
       "    </tr>\n",
       "    <tr>\n",
       "      <th>2</th>\n",
       "      <td>-0.32</td>\n",
       "      <td>-0.63</td>\n",
       "      <td>-0.46</td>\n",
       "      <td>-0.28</td>\n",
       "      <td>-0.96</td>\n",
       "      <td>-1.17</td>\n",
       "      <td>-1.13</td>\n",
       "      <td>-0.89</td>\n",
       "      <td>-0.49</td>\n",
       "      <td>-0.23</td>\n",
       "      <td>...</td>\n",
       "      <td>1.62</td>\n",
       "      <td>-0.01</td>\n",
       "      <td>None</td>\n",
       "      <td>0.29</td>\n",
       "      <td>-0.57</td>\n",
       "      <td>1.2</td>\n",
       "      <td>1.4</td>\n",
       "      <td>0.29</td>\n",
       "      <td>0.25</td>\n",
       "      <td>DLBCL</td>\n",
       "    </tr>\n",
       "    <tr>\n",
       "      <th>3</th>\n",
       "      <td>-0.51</td>\n",
       "      <td>-0.45</td>\n",
       "      <td>-0.16</td>\n",
       "      <td>-0.51</td>\n",
       "      <td>-0.58</td>\n",
       "      <td>-0.71</td>\n",
       "      <td>-0.65</td>\n",
       "      <td>-0.82</td>\n",
       "      <td>-0.3</td>\n",
       "      <td>-0.22</td>\n",
       "      <td>...</td>\n",
       "      <td>0.34</td>\n",
       "      <td>0.02</td>\n",
       "      <td>0.08</td>\n",
       "      <td>0.49</td>\n",
       "      <td>0.29</td>\n",
       "      <td>1.26</td>\n",
       "      <td>1.24</td>\n",
       "      <td>0.05</td>\n",
       "      <td>0.7</td>\n",
       "      <td>DLBCL</td>\n",
       "    </tr>\n",
       "    <tr>\n",
       "      <th>4</th>\n",
       "      <td>0.2</td>\n",
       "      <td>0.13</td>\n",
       "      <td>0.2</td>\n",
       "      <td>0.09</td>\n",
       "      <td>-0.56</td>\n",
       "      <td>0</td>\n",
       "      <td>0.06</td>\n",
       "      <td>-0.15</td>\n",
       "      <td>-0.61</td>\n",
       "      <td>-0.65</td>\n",
       "      <td>...</td>\n",
       "      <td>0.16</td>\n",
       "      <td>0.66</td>\n",
       "      <td>1.11</td>\n",
       "      <td>0.28</td>\n",
       "      <td>0.12</td>\n",
       "      <td>-0.16</td>\n",
       "      <td>-0.72</td>\n",
       "      <td>-0.04</td>\n",
       "      <td>-0.22</td>\n",
       "      <td>DLBCL</td>\n",
       "    </tr>\n",
       "  </tbody>\n",
       "</table>\n",
       "<p>5 rows × 4027 columns</p>\n",
       "</div>"
      ],
      "text/plain": [
       "  GENE1835X GENE1836X GENE1865X GENE1380X GENE1933X GENE1932X GENE1931X  \\\n",
       "0      0.46       0.7      0.67     -0.23         0      0.09     -0.02   \n",
       "1      0.02      0.59      0.45      0.55     -0.08     -0.15     -0.05   \n",
       "2     -0.32     -0.63     -0.46     -0.28     -0.96     -1.17     -1.13   \n",
       "3     -0.51     -0.45     -0.16     -0.51     -0.58     -0.71     -0.65   \n",
       "4       0.2      0.13       0.2      0.09     -0.56         0      0.06   \n",
       "\n",
       "  GENE1930X GENE3129X GENE3126X  ... GENE3931X GENE2588X GENE3120X GENE6X  \\\n",
       "0     -0.57     -0.17     -0.25  ...       0.4      0.02      0.79   0.64   \n",
       "1     -0.38     -0.55      0.35  ...      0.57      0.52     -0.23    0.3   \n",
       "2     -0.89     -0.49     -0.23  ...      1.62     -0.01      None   0.29   \n",
       "3     -0.82      -0.3     -0.22  ...      0.34      0.02      0.08   0.49   \n",
       "4     -0.15     -0.61     -0.65  ...      0.16      0.66      1.11   0.28   \n",
       "\n",
       "  GENE5X GENE3X GENE2X GENE48X GENE47X  class  \n",
       "0   0.16   1.22   1.37   -0.04    0.16  DLBCL  \n",
       "1   0.09   -0.2  -0.05   -0.14   -1.15  DLBCL  \n",
       "2  -0.57    1.2    1.4    0.29    0.25  DLBCL  \n",
       "3   0.29   1.26   1.24    0.05     0.7  DLBCL  \n",
       "4   0.12  -0.16  -0.72   -0.04   -0.22  DLBCL  \n",
       "\n",
       "[5 rows x 4027 columns]"
      ]
     },
     "execution_count": 59,
     "metadata": {},
     "output_type": "execute_result"
    }
   ],
   "source": [
    "df.head()"
   ]
  },
  {
   "cell_type": "markdown",
   "metadata": {},
   "source": [
    "# 2. Tiền xử lý dữ liệu"
   ]
  },
  {
   "cell_type": "markdown",
   "metadata": {},
   "source": [
    "Tách dữ liệu ra làm 2 phần: Input(X) và output(Y)"
   ]
  },
  {
   "cell_type": "code",
   "execution_count": 77,
   "metadata": {},
   "outputs": [],
   "source": [
    "X = df[df.columns.difference(['class'])].copy()\n",
    "Y= df[\"class\"]"
   ]
  },
  {
   "cell_type": "code",
   "execution_count": 78,
   "metadata": {},
   "outputs": [
    {
     "data": {
      "text/html": [
       "<div>\n",
       "<style scoped>\n",
       "    .dataframe tbody tr th:only-of-type {\n",
       "        vertical-align: middle;\n",
       "    }\n",
       "\n",
       "    .dataframe tbody tr th {\n",
       "        vertical-align: top;\n",
       "    }\n",
       "\n",
       "    .dataframe thead th {\n",
       "        text-align: right;\n",
       "    }\n",
       "</style>\n",
       "<table border=\"1\" class=\"dataframe\">\n",
       "  <thead>\n",
       "    <tr style=\"text-align: right;\">\n",
       "      <th></th>\n",
       "      <th>GENE0X</th>\n",
       "      <th>GENE1000X</th>\n",
       "      <th>GENE1001X</th>\n",
       "      <th>GENE1002X</th>\n",
       "      <th>GENE1003X</th>\n",
       "      <th>GENE1004X</th>\n",
       "      <th>GENE1005X</th>\n",
       "      <th>GENE1006X</th>\n",
       "      <th>GENE1007X</th>\n",
       "      <th>GENE1008X</th>\n",
       "      <th>...</th>\n",
       "      <th>GENE992X</th>\n",
       "      <th>GENE993X</th>\n",
       "      <th>GENE994X</th>\n",
       "      <th>GENE995X</th>\n",
       "      <th>GENE996X</th>\n",
       "      <th>GENE997X</th>\n",
       "      <th>GENE998X</th>\n",
       "      <th>GENE999X</th>\n",
       "      <th>GENE99X</th>\n",
       "      <th>GENE9X</th>\n",
       "    </tr>\n",
       "  </thead>\n",
       "  <tbody>\n",
       "    <tr>\n",
       "      <th>0</th>\n",
       "      <td>-0.47</td>\n",
       "      <td>-1.88</td>\n",
       "      <td>-0.13</td>\n",
       "      <td>0.33</td>\n",
       "      <td>1.35</td>\n",
       "      <td>2.02</td>\n",
       "      <td>1.61</td>\n",
       "      <td>0.7</td>\n",
       "      <td>0.43</td>\n",
       "      <td>0.48</td>\n",
       "      <td>...</td>\n",
       "      <td>0.32</td>\n",
       "      <td>-0.5</td>\n",
       "      <td>-0.49</td>\n",
       "      <td>-0.58</td>\n",
       "      <td>0</td>\n",
       "      <td>0.32</td>\n",
       "      <td>-0.38</td>\n",
       "      <td>0.05</td>\n",
       "      <td>0.05</td>\n",
       "      <td>0.43</td>\n",
       "    </tr>\n",
       "    <tr>\n",
       "      <th>1</th>\n",
       "      <td>-0.19</td>\n",
       "      <td>-0.52</td>\n",
       "      <td>-0.54</td>\n",
       "      <td>-0.73</td>\n",
       "      <td>-0.52</td>\n",
       "      <td>-2.21</td>\n",
       "      <td>-1.96</td>\n",
       "      <td>-0.08</td>\n",
       "      <td>-0.26</td>\n",
       "      <td>0.18</td>\n",
       "      <td>...</td>\n",
       "      <td>1.04</td>\n",
       "      <td>0.08</td>\n",
       "      <td>0.35</td>\n",
       "      <td>0.2</td>\n",
       "      <td>0.21</td>\n",
       "      <td>0.2</td>\n",
       "      <td>0.61</td>\n",
       "      <td>0.27</td>\n",
       "      <td>0.11</td>\n",
       "      <td>-0.29</td>\n",
       "    </tr>\n",
       "    <tr>\n",
       "      <th>2</th>\n",
       "      <td>-0.16</td>\n",
       "      <td>-1.82</td>\n",
       "      <td>-1.59</td>\n",
       "      <td>-0.88</td>\n",
       "      <td>1.57</td>\n",
       "      <td>1.24</td>\n",
       "      <td>1.07</td>\n",
       "      <td>0.19</td>\n",
       "      <td>-0.49</td>\n",
       "      <td>0.49</td>\n",
       "      <td>...</td>\n",
       "      <td>0</td>\n",
       "      <td>-0.06</td>\n",
       "      <td>0.02</td>\n",
       "      <td>0.14</td>\n",
       "      <td>-0.82</td>\n",
       "      <td>-0.67</td>\n",
       "      <td>-0.27</td>\n",
       "      <td>-0.71</td>\n",
       "      <td>-0.23</td>\n",
       "      <td>-1.14</td>\n",
       "    </tr>\n",
       "    <tr>\n",
       "      <th>3</th>\n",
       "      <td>0.43</td>\n",
       "      <td>1.42</td>\n",
       "      <td>1.28</td>\n",
       "      <td>0.24</td>\n",
       "      <td>1.51</td>\n",
       "      <td>1.98</td>\n",
       "      <td>1.48</td>\n",
       "      <td>0.21</td>\n",
       "      <td>0.21</td>\n",
       "      <td>0.27</td>\n",
       "      <td>...</td>\n",
       "      <td>-0.73</td>\n",
       "      <td>0.29</td>\n",
       "      <td>0.5</td>\n",
       "      <td>0.34</td>\n",
       "      <td>0.24</td>\n",
       "      <td>-0.05</td>\n",
       "      <td>-0.28</td>\n",
       "      <td>0.34</td>\n",
       "      <td>0.06</td>\n",
       "      <td>0.38</td>\n",
       "    </tr>\n",
       "    <tr>\n",
       "      <th>4</th>\n",
       "      <td>0.36</td>\n",
       "      <td>-0.22</td>\n",
       "      <td>-0.01</td>\n",
       "      <td>-0.41</td>\n",
       "      <td>-1.18</td>\n",
       "      <td>-1.15</td>\n",
       "      <td>-1.08</td>\n",
       "      <td>0.15</td>\n",
       "      <td>0.26</td>\n",
       "      <td>-0.04</td>\n",
       "      <td>...</td>\n",
       "      <td>0.48</td>\n",
       "      <td>0.46</td>\n",
       "      <td>0.43</td>\n",
       "      <td>0.26</td>\n",
       "      <td>0.45</td>\n",
       "      <td>0.1</td>\n",
       "      <td>0.26</td>\n",
       "      <td>-0.25</td>\n",
       "      <td>-0.3</td>\n",
       "      <td>0.28</td>\n",
       "    </tr>\n",
       "  </tbody>\n",
       "</table>\n",
       "<p>5 rows × 4026 columns</p>\n",
       "</div>"
      ],
      "text/plain": [
       "  GENE0X GENE1000X GENE1001X GENE1002X GENE1003X GENE1004X GENE1005X  \\\n",
       "0  -0.47     -1.88     -0.13      0.33      1.35      2.02      1.61   \n",
       "1  -0.19     -0.52     -0.54     -0.73     -0.52     -2.21     -1.96   \n",
       "2  -0.16     -1.82     -1.59     -0.88      1.57      1.24      1.07   \n",
       "3   0.43      1.42      1.28      0.24      1.51      1.98      1.48   \n",
       "4   0.36     -0.22     -0.01     -0.41     -1.18     -1.15     -1.08   \n",
       "\n",
       "  GENE1006X GENE1007X GENE1008X  ... GENE992X GENE993X GENE994X GENE995X  \\\n",
       "0       0.7      0.43      0.48  ...     0.32     -0.5    -0.49    -0.58   \n",
       "1     -0.08     -0.26      0.18  ...     1.04     0.08     0.35      0.2   \n",
       "2      0.19     -0.49      0.49  ...        0    -0.06     0.02     0.14   \n",
       "3      0.21      0.21      0.27  ...    -0.73     0.29      0.5     0.34   \n",
       "4      0.15      0.26     -0.04  ...     0.48     0.46     0.43     0.26   \n",
       "\n",
       "  GENE996X GENE997X GENE998X GENE999X GENE99X GENE9X  \n",
       "0        0     0.32    -0.38     0.05    0.05   0.43  \n",
       "1     0.21      0.2     0.61     0.27    0.11  -0.29  \n",
       "2    -0.82    -0.67    -0.27    -0.71   -0.23  -1.14  \n",
       "3     0.24    -0.05    -0.28     0.34    0.06   0.38  \n",
       "4     0.45      0.1     0.26    -0.25    -0.3   0.28  \n",
       "\n",
       "[5 rows x 4026 columns]"
      ]
     },
     "execution_count": 78,
     "metadata": {},
     "output_type": "execute_result"
    }
   ],
   "source": [
    "X.head()"
   ]
  },
  {
   "cell_type": "code",
   "execution_count": 79,
   "metadata": {},
   "outputs": [
    {
     "data": {
      "text/plain": [
       "0    DLBCL\n",
       "1    DLBCL\n",
       "2    DLBCL\n",
       "3    DLBCL\n",
       "4    DLBCL\n",
       "Name: class, dtype: object"
      ]
     },
     "execution_count": 79,
     "metadata": {},
     "output_type": "execute_result"
    }
   ],
   "source": [
    "Y.head()"
   ]
  },
  {
   "cell_type": "code",
   "execution_count": 81,
   "metadata": {},
   "outputs": [
    {
     "data": {
      "text/plain": [
       "array(['DLBCL', 'FL', 'CLL'], dtype=object)"
      ]
     },
     "execution_count": 81,
     "metadata": {},
     "output_type": "execute_result"
    }
   ],
   "source": [
    "Y.unique()"
   ]
  },
  {
   "cell_type": "markdown",
   "metadata": {},
   "source": [
    "Kiểm tra những vị trí trống trên data và fill dữ liệu vào đó"
   ]
  },
  {
   "cell_type": "code",
   "execution_count": 80,
   "metadata": {},
   "outputs": [],
   "source": [
    "X.fillna(X.mean(), inplace=True)"
   ]
  },
  {
   "cell_type": "code",
   "execution_count": 68,
   "metadata": {},
   "outputs": [
    {
     "data": {
      "text/plain": [
       "Series([], dtype: float64)"
      ]
     },
     "execution_count": 68,
     "metadata": {},
     "output_type": "execute_result"
    }
   ],
   "source": [
    "df.mean()"
   ]
  },
  {
   "cell_type": "markdown",
   "metadata": {},
   "source": [
    "Kiểm tra phân bố nhãn"
   ]
  },
  {
   "cell_type": "code",
   "execution_count": 82,
   "metadata": {},
   "outputs": [
    {
     "data": {
      "text/plain": [
       "DLBCL    46\n",
       "CLL      11\n",
       "FL        9\n",
       "Name: class, dtype: int64"
      ]
     },
     "execution_count": 82,
     "metadata": {},
     "output_type": "execute_result"
    }
   ],
   "source": [
    "Y.value_counts()"
   ]
  },
  {
   "cell_type": "markdown",
   "metadata": {},
   "source": [
    "# 3. Xây dựng mô hình"
   ]
  },
  {
   "cell_type": "markdown",
   "metadata": {},
   "source": [
    "# Decision Tree"
   ]
  },
  {
   "cell_type": "code",
   "execution_count": 85,
   "metadata": {},
   "outputs": [],
   "source": [
    "from sklearn.model_selection import train_test_split\n",
    "X_train, X_test, y_train, y_test = train_test_split(X, Y, stratify = Y)"
   ]
  },
  {
   "cell_type": "code",
   "execution_count": 86,
   "metadata": {},
   "outputs": [],
   "source": [
    "from sklearn.tree import DecisionTreeClassifier"
   ]
  },
  {
   "cell_type": "code",
   "execution_count": 87,
   "metadata": {},
   "outputs": [],
   "source": [
    "clf = DecisionTreeClassifier(random_state=42)"
   ]
  },
  {
   "cell_type": "code",
   "execution_count": 88,
   "metadata": {},
   "outputs": [
    {
     "data": {
      "text/plain": [
       "DecisionTreeClassifier(class_weight=None, criterion='gini', max_depth=None,\n",
       "            max_features=None, max_leaf_nodes=None,\n",
       "            min_impurity_decrease=0.0, min_impurity_split=None,\n",
       "            min_samples_leaf=1, min_samples_split=2,\n",
       "            min_weight_fraction_leaf=0.0, presort=False, random_state=42,\n",
       "            splitter='best')"
      ]
     },
     "execution_count": 88,
     "metadata": {},
     "output_type": "execute_result"
    }
   ],
   "source": [
    "clf.fit(X_train, y_train)"
   ]
  },
  {
   "cell_type": "code",
   "execution_count": 89,
   "metadata": {},
   "outputs": [],
   "source": [
    "from sklearn.model_selection import cross_val_score, cross_val_predict\n",
    "from sklearn.metrics import accuracy_score, classification_report, confusion_matrix"
   ]
  },
  {
   "cell_type": "code",
   "execution_count": 90,
   "metadata": {},
   "outputs": [],
   "source": [
    "def print_score(clf, X_train, y_train, X_test, y_test, train=True):\n",
    "    '''\n",
    "    print the accuracy score, classification report and confusion matrix of classifier\n",
    "    '''\n",
    "    if train:\n",
    "        '''\n",
    "        training performance\n",
    "        '''\n",
    "        print(\"Train Result:\\n\")\n",
    "        print(\"accuracy score: {0:.4f}\\n\".format(accuracy_score(y_train, clf.predict(X_train))))\n",
    "        print(\"Classification Report: \\n {}\\n\".format(classification_report(y_train, clf.predict(X_train))))\n",
    "        print(\"Confusion Matrix: \\n {}\\n\".format(confusion_matrix(y_train, clf.predict(X_train))))\n",
    "\n",
    "        res = cross_val_score(clf, X_train, y_train.ravel(), cv=10, scoring='accuracy')\n",
    "        print(\"Average Accuracy: \\t {0:.4f}\".format(np.mean(res)))\n",
    "        print(\"Accuracy SD: \\t\\t {0:.4f}\".format(np.std(res)))\n",
    "        \n",
    "    elif train==False:\n",
    "        '''\n",
    "        test performance\n",
    "        '''\n",
    "        print(\"Test Result:\\n\")        \n",
    "        print(\"accuracy score: {0:.4f}\\n\".format(accuracy_score(y_test, clf.predict(X_test))))\n",
    "        print(\"Classification Report: \\n {}\\n\".format(classification_report(y_test, clf.predict(X_test))))\n",
    "        print(\"Confusion Matrix: \\n {}\\n\".format(confusion_matrix(y_test, clf.predict(X_test))))    \n",
    "        "
   ]
  },
  {
   "cell_type": "code",
   "execution_count": 91,
   "metadata": {},
   "outputs": [
    {
     "name": "stdout",
     "output_type": "stream",
     "text": [
      "Train Result:\n",
      "\n",
      "accuracy score: 1.0000\n",
      "\n",
      "Classification Report: \n",
      "               precision    recall  f1-score   support\n",
      "\n",
      "         CLL       1.00      1.00      1.00         8\n",
      "       DLBCL       1.00      1.00      1.00        34\n",
      "          FL       1.00      1.00      1.00         7\n",
      "\n",
      "   micro avg       1.00      1.00      1.00        49\n",
      "   macro avg       1.00      1.00      1.00        49\n",
      "weighted avg       1.00      1.00      1.00        49\n",
      "\n",
      "\n",
      "Confusion Matrix: \n",
      " [[ 8  0  0]\n",
      " [ 0 34  0]\n",
      " [ 0  0  7]]\n",
      "\n"
     ]
    },
    {
     "name": "stderr",
     "output_type": "stream",
     "text": [
      "D:\\Anaconda\\envs\\bml\\lib\\site-packages\\sklearn\\model_selection\\_split.py:652: Warning: The least populated class in y has only 7 members, which is too few. The minimum number of members in any class cannot be less than n_splits=10.\n",
      "  % (min_groups, self.n_splits)), Warning)\n"
     ]
    },
    {
     "name": "stdout",
     "output_type": "stream",
     "text": [
      "Average Accuracy: \t 0.8800\n",
      "Accuracy SD: \t\t 0.1318\n"
     ]
    }
   ],
   "source": [
    "print_score(clf, X_train, y_train, X_test, y_test, train=True)"
   ]
  },
  {
   "cell_type": "code",
   "execution_count": 92,
   "metadata": {},
   "outputs": [
    {
     "name": "stdout",
     "output_type": "stream",
     "text": [
      "Test Result:\n",
      "\n",
      "accuracy score: 0.9412\n",
      "\n",
      "Classification Report: \n",
      "               precision    recall  f1-score   support\n",
      "\n",
      "         CLL       0.75      1.00      0.86         3\n",
      "       DLBCL       1.00      1.00      1.00        12\n",
      "          FL       1.00      0.50      0.67         2\n",
      "\n",
      "   micro avg       0.94      0.94      0.94        17\n",
      "   macro avg       0.92      0.83      0.84        17\n",
      "weighted avg       0.96      0.94      0.94        17\n",
      "\n",
      "\n",
      "Confusion Matrix: \n",
      " [[ 3  0  0]\n",
      " [ 0 12  0]\n",
      " [ 1  0  1]]\n",
      "\n"
     ]
    }
   ],
   "source": [
    "print_score(clf, X_train, y_train, X_test, y_test, train=False)"
   ]
  },
  {
   "cell_type": "markdown",
   "metadata": {},
   "source": [
    "Dù kết quả cao nhưng độ lệch chuẩn của kiểm định chéo cũng khá cao, cho thấy mô hình học chưa được ổn định"
   ]
  },
  {
   "cell_type": "markdown",
   "metadata": {},
   "source": [
    "****"
   ]
  },
  {
   "cell_type": "markdown",
   "metadata": {},
   "source": [
    "# Bagging"
   ]
  },
  {
   "cell_type": "code",
   "execution_count": 93,
   "metadata": {},
   "outputs": [],
   "source": [
    "from sklearn.ensemble import BaggingClassifier"
   ]
  },
  {
   "cell_type": "code",
   "execution_count": 94,
   "metadata": {},
   "outputs": [],
   "source": [
    "bag_clf = BaggingClassifier(base_estimator=clf, n_estimators=5000,\n",
    "                            bootstrap=True, n_jobs=-1, random_state=42)"
   ]
  },
  {
   "cell_type": "code",
   "execution_count": 95,
   "metadata": {},
   "outputs": [
    {
     "data": {
      "text/plain": [
       "BaggingClassifier(base_estimator=DecisionTreeClassifier(class_weight=None, criterion='gini', max_depth=None,\n",
       "            max_features=None, max_leaf_nodes=None,\n",
       "            min_impurity_decrease=0.0, min_impurity_split=None,\n",
       "            min_samples_leaf=1, min_samples_split=2,\n",
       "            min_weight_fraction_leaf=0.0, presort=False, random_state=42,\n",
       "            splitter='best'),\n",
       "         bootstrap=True, bootstrap_features=False, max_features=1.0,\n",
       "         max_samples=1.0, n_estimators=5000, n_jobs=-1, oob_score=False,\n",
       "         random_state=42, verbose=0, warm_start=False)"
      ]
     },
     "execution_count": 95,
     "metadata": {},
     "output_type": "execute_result"
    }
   ],
   "source": [
    "bag_clf.fit(X_train, y_train.ravel())"
   ]
  },
  {
   "cell_type": "code",
   "execution_count": 96,
   "metadata": {},
   "outputs": [
    {
     "name": "stdout",
     "output_type": "stream",
     "text": [
      "Train Result:\n",
      "\n",
      "accuracy score: 1.0000\n",
      "\n",
      "Classification Report: \n",
      "               precision    recall  f1-score   support\n",
      "\n",
      "         CLL       1.00      1.00      1.00         8\n",
      "       DLBCL       1.00      1.00      1.00        34\n",
      "          FL       1.00      1.00      1.00         7\n",
      "\n",
      "   micro avg       1.00      1.00      1.00        49\n",
      "   macro avg       1.00      1.00      1.00        49\n",
      "weighted avg       1.00      1.00      1.00        49\n",
      "\n",
      "\n",
      "Confusion Matrix: \n",
      " [[ 8  0  0]\n",
      " [ 0 34  0]\n",
      " [ 0  0  7]]\n",
      "\n"
     ]
    },
    {
     "name": "stderr",
     "output_type": "stream",
     "text": [
      "D:\\Anaconda\\envs\\bml\\lib\\site-packages\\sklearn\\model_selection\\_split.py:652: Warning: The least populated class in y has only 7 members, which is too few. The minimum number of members in any class cannot be less than n_splits=10.\n",
      "  % (min_groups, self.n_splits)), Warning)\n"
     ]
    },
    {
     "name": "stdout",
     "output_type": "stream",
     "text": [
      "Average Accuracy: \t 0.9633\n",
      "Accuracy SD: \t\t 0.0737\n",
      "Test Result:\n",
      "\n",
      "accuracy score: 1.0000\n",
      "\n",
      "Classification Report: \n",
      "               precision    recall  f1-score   support\n",
      "\n",
      "         CLL       1.00      1.00      1.00         3\n",
      "       DLBCL       1.00      1.00      1.00        12\n",
      "          FL       1.00      1.00      1.00         2\n",
      "\n",
      "   micro avg       1.00      1.00      1.00        17\n",
      "   macro avg       1.00      1.00      1.00        17\n",
      "weighted avg       1.00      1.00      1.00        17\n",
      "\n",
      "\n",
      "Confusion Matrix: \n",
      " [[ 3  0  0]\n",
      " [ 0 12  0]\n",
      " [ 0  0  2]]\n",
      "\n"
     ]
    }
   ],
   "source": [
    "print_score(bag_clf, X_train, y_train, X_test, y_test, train=True)\n",
    "print_score(bag_clf, X_train, y_train, X_test, y_test, train=False)"
   ]
  },
  {
   "cell_type": "markdown",
   "metadata": {},
   "source": [
    "***"
   ]
  },
  {
   "cell_type": "markdown",
   "metadata": {},
   "source": [
    "# Random Forest"
   ]
  },
  {
   "cell_type": "code",
   "execution_count": 97,
   "metadata": {},
   "outputs": [],
   "source": [
    "from sklearn.ensemble import RandomForestClassifier"
   ]
  },
  {
   "cell_type": "code",
   "execution_count": 98,
   "metadata": {},
   "outputs": [],
   "source": [
    "rf_clf = RandomForestClassifier()"
   ]
  },
  {
   "cell_type": "code",
   "execution_count": 99,
   "metadata": {},
   "outputs": [
    {
     "name": "stderr",
     "output_type": "stream",
     "text": [
      "D:\\Anaconda\\envs\\bml\\lib\\site-packages\\sklearn\\ensemble\\forest.py:246: FutureWarning: The default value of n_estimators will change from 10 in version 0.20 to 100 in 0.22.\n",
      "  \"10 in version 0.20 to 100 in 0.22.\", FutureWarning)\n"
     ]
    },
    {
     "data": {
      "text/plain": [
       "RandomForestClassifier(bootstrap=True, class_weight=None, criterion='gini',\n",
       "            max_depth=None, max_features='auto', max_leaf_nodes=None,\n",
       "            min_impurity_decrease=0.0, min_impurity_split=None,\n",
       "            min_samples_leaf=1, min_samples_split=2,\n",
       "            min_weight_fraction_leaf=0.0, n_estimators=10, n_jobs=None,\n",
       "            oob_score=False, random_state=None, verbose=0,\n",
       "            warm_start=False)"
      ]
     },
     "execution_count": 99,
     "metadata": {},
     "output_type": "execute_result"
    }
   ],
   "source": [
    "rf_clf.fit(X_train, y_train.ravel())"
   ]
  },
  {
   "cell_type": "code",
   "execution_count": 100,
   "metadata": {},
   "outputs": [
    {
     "name": "stdout",
     "output_type": "stream",
     "text": [
      "Train Result:\n",
      "\n",
      "accuracy score: 1.0000\n",
      "\n",
      "Classification Report: \n",
      "               precision    recall  f1-score   support\n",
      "\n",
      "         CLL       1.00      1.00      1.00         8\n",
      "       DLBCL       1.00      1.00      1.00        34\n",
      "          FL       1.00      1.00      1.00         7\n",
      "\n",
      "   micro avg       1.00      1.00      1.00        49\n",
      "   macro avg       1.00      1.00      1.00        49\n",
      "weighted avg       1.00      1.00      1.00        49\n",
      "\n",
      "\n",
      "Confusion Matrix: \n",
      " [[ 8  0  0]\n",
      " [ 0 34  0]\n",
      " [ 0  0  7]]\n",
      "\n"
     ]
    },
    {
     "name": "stderr",
     "output_type": "stream",
     "text": [
      "D:\\Anaconda\\envs\\bml\\lib\\site-packages\\sklearn\\model_selection\\_split.py:652: Warning: The least populated class in y has only 7 members, which is too few. The minimum number of members in any class cannot be less than n_splits=10.\n",
      "  % (min_groups, self.n_splits)), Warning)\n"
     ]
    },
    {
     "name": "stdout",
     "output_type": "stream",
     "text": [
      "Average Accuracy: \t 0.9467\n",
      "Accuracy SD: \t\t 0.0819\n",
      "Test Result:\n",
      "\n",
      "accuracy score: 1.0000\n",
      "\n",
      "Classification Report: \n",
      "               precision    recall  f1-score   support\n",
      "\n",
      "         CLL       1.00      1.00      1.00         3\n",
      "       DLBCL       1.00      1.00      1.00        12\n",
      "          FL       1.00      1.00      1.00         2\n",
      "\n",
      "   micro avg       1.00      1.00      1.00        17\n",
      "   macro avg       1.00      1.00      1.00        17\n",
      "weighted avg       1.00      1.00      1.00        17\n",
      "\n",
      "\n",
      "Confusion Matrix: \n",
      " [[ 3  0  0]\n",
      " [ 0 12  0]\n",
      " [ 0  0  2]]\n",
      "\n"
     ]
    }
   ],
   "source": [
    "print_score(rf_clf, X_train, y_train, X_test, y_test, train=True)\n",
    "print_score(rf_clf, X_train, y_train, X_test, y_test, train=False)"
   ]
  },
  {
   "cell_type": "code",
   "execution_count": 101,
   "metadata": {},
   "outputs": [],
   "source": [
    "import seaborn as sns"
   ]
  },
  {
   "cell_type": "code",
   "execution_count": 102,
   "metadata": {},
   "outputs": [
    {
     "data": {
      "image/png": "[encoded data removed]",
      "text/plain": [
       "<Figure size 864x432 with 1 Axes>"
      ]
     },
     "metadata": {
      "needs_background": "light"
     },
     "output_type": "display_data"
    }
   ],
   "source": [
    "pd.Series(rf_clf.feature_importances_, \n",
    "         index=X_train.columns).sort_values(ascending=False).plot(kind='bar', figsize=(12,6));"
   ]
  },
  {
   "cell_type": "markdown",
   "metadata": {},
   "source": [
    "# AdaBoost"
   ]
  },
  {
   "cell_type": "code",
   "execution_count": 103,
   "metadata": {},
   "outputs": [],
   "source": [
    "from sklearn.ensemble import AdaBoostClassifier"
   ]
  },
  {
   "cell_type": "code",
   "execution_count": 104,
   "metadata": {},
   "outputs": [],
   "source": [
    "ada_clf = AdaBoostClassifier()"
   ]
  },
  {
   "cell_type": "code",
   "execution_count": 105,
   "metadata": {},
   "outputs": [
    {
     "data": {
      "text/plain": [
       "AdaBoostClassifier(algorithm='SAMME.R', base_estimator=None,\n",
       "          learning_rate=1.0, n_estimators=50, random_state=None)"
      ]
     },
     "execution_count": 105,
     "metadata": {},
     "output_type": "execute_result"
    }
   ],
   "source": [
    "ada_clf.fit(X_train, y_train.ravel())"
   ]
  },
  {
   "cell_type": "code",
   "execution_count": 106,
   "metadata": {},
   "outputs": [
    {
     "name": "stdout",
     "output_type": "stream",
     "text": [
      "Train Result:\n",
      "\n",
      "accuracy score: 1.0000\n",
      "\n",
      "Classification Report: \n",
      "               precision    recall  f1-score   support\n",
      "\n",
      "         CLL       1.00      1.00      1.00         8\n",
      "       DLBCL       1.00      1.00      1.00        34\n",
      "          FL       1.00      1.00      1.00         7\n",
      "\n",
      "   micro avg       1.00      1.00      1.00        49\n",
      "   macro avg       1.00      1.00      1.00        49\n",
      "weighted avg       1.00      1.00      1.00        49\n",
      "\n",
      "\n",
      "Confusion Matrix: \n",
      " [[ 8  0  0]\n",
      " [ 0 34  0]\n",
      " [ 0  0  7]]\n",
      "\n"
     ]
    },
    {
     "name": "stderr",
     "output_type": "stream",
     "text": [
      "D:\\Anaconda\\envs\\bml\\lib\\site-packages\\sklearn\\model_selection\\_split.py:652: Warning: The least populated class in y has only 7 members, which is too few. The minimum number of members in any class cannot be less than n_splits=10.\n",
      "  % (min_groups, self.n_splits)), Warning)\n"
     ]
    },
    {
     "name": "stdout",
     "output_type": "stream",
     "text": [
      "Average Accuracy: \t 0.9633\n",
      "Accuracy SD: \t\t 0.0737\n",
      "Test Result:\n",
      "\n",
      "accuracy score: 1.0000\n",
      "\n",
      "Classification Report: \n",
      "               precision    recall  f1-score   support\n",
      "\n",
      "         CLL       1.00      1.00      1.00         3\n",
      "       DLBCL       1.00      1.00      1.00        12\n",
      "          FL       1.00      1.00      1.00         2\n",
      "\n",
      "   micro avg       1.00      1.00      1.00        17\n",
      "   macro avg       1.00      1.00      1.00        17\n",
      "weighted avg       1.00      1.00      1.00        17\n",
      "\n",
      "\n",
      "Confusion Matrix: \n",
      " [[ 3  0  0]\n",
      " [ 0 12  0]\n",
      " [ 0  0  2]]\n",
      "\n"
     ]
    }
   ],
   "source": [
    "print_score(ada_clf, X_train, y_train, X_test, y_test, train=True)\n",
    "print_score(ada_clf, X_train, y_train, X_test, y_test, train=False)"
   ]
  }
 ],
 "metadata": {
  "kernelspec": {
   "display_name": "Python 3",
   "language": "python",
   "name": "python3"
  },
  "language_info": {
   "codemirror_mode": {
    "name": "ipython",
    "version": 3
   },
   "file_extension": ".py",
   "mimetype": "text/x-python",
   "name": "python",
   "nbconvert_exporter": "python",
   "pygments_lexer": "ipython3",
   "version": "3.6.10"
  }
 },
 "nbformat": 4,
 "nbformat_minor": 2
}
