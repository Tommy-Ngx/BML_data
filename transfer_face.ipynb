{
 "cells": [
  {
   "cell_type": "code",
   "execution_count": 20,
   "metadata": {},
   "outputs": [],
   "source": [
    "import cv2\n",
    "import face_recognition\n",
    "import numpy as np"
   ]
  },
  {
   "cell_type": "code",
   "execution_count": 23,
   "metadata": {},
   "outputs": [],
   "source": [
    "path_train='data/Face_Train'\n",
    "path_test='data/Face_Test'\n",
    "\n",
    "import os\n",
    "def get_images(path):\n",
    "    images = []\n",
    "    labels = []\n",
    "    for subdir,_, files in os.walk(path):\n",
    "        if subdir==path:\n",
    "            continue\n",
    "        for line in files:\n",
    "            if line.startswith('.'):\n",
    "                continue\n",
    "            fields = subdir.strip().split('/')\n",
    "            file_name=os.path.join(subdir, line)\n",
    "            label=fields[-1]\n",
    "            #print(label)\n",
    "            image = face_recognition.load_image_file(file_name)\n",
    "            emb = face_recognition.face_encodings(image)\n",
    "            if len(emb)>0:\n",
    "                emb=emb[0]\n",
    "            else:\n",
    "                continue        \n",
    "                \n",
    "            images.append(emb)\n",
    "            labels.append(label)\n",
    "    return images, labels\n",
    "\n",
    "images_train,label_train=get_images(path_train)\n",
    "images_test,label_test=get_images(path_test)"
   ]
  },
  {
   "cell_type": "code",
   "execution_count": 25,
   "metadata": {},
   "outputs": [
    {
     "name": "stdout",
     "output_type": "stream",
     "text": [
      "(250, 128)\n",
      "(80, 128)\n"
     ]
    }
   ],
   "source": [
    "x_train=np.array(images_train)\n",
    "y_train=np.array(label_train)\n",
    "\n",
    "x_test=np.array(images_test)\n",
    "y_test=np.array(label_test)\n",
    "\n",
    "print(x_train.shape)\n",
    "print(x_test.shape)"
   ]
  },
  {
   "cell_type": "code",
   "execution_count": 28,
   "metadata": {},
   "outputs": [
    {
     "name": "stdout",
     "output_type": "stream",
     "text": [
      "0.975\n"
     ]
    }
   ],
   "source": [
    "from sklearn.svm import SVC\n",
    "from sklearn import metrics\n",
    "\n",
    "svm = SVC(kernel=\"linear\", C=50)\n",
    "svm.fit(x_train, y_train)\n",
    "\n",
    "y_pred=svm.predict(x_test)\n",
    "score_test = metrics.accuracy_score(y_test, y_pred)\n",
    "print(score_test)"
   ]
  },
  {
   "cell_type": "code",
   "execution_count": null,
   "metadata": {},
   "outputs": [],
   "source": []
  }
 ],
 "metadata": {
  "kernelspec": {
   "display_name": "Python 3",
   "language": "python",
   "name": "python3"
  },
  "language_info": {
   "codemirror_mode": {
    "name": "ipython",
    "version": 3
   },
   "file_extension": ".py",
   "mimetype": "text/x-python",
   "name": "python",
   "nbconvert_exporter": "python",
   "pygments_lexer": "ipython3",
   "version": "3.8.2"
  }
 },
 "nbformat": 4,
 "nbformat_minor": 4
}
